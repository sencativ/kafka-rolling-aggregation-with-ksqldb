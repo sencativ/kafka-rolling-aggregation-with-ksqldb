{
 "cells": [
  {
   "cell_type": "code",
   "execution_count": 1,
   "id": "c474a0df-77ab-461a-88a2-5975940675d6",
   "metadata": {
    "tags": []
   },
   "outputs": [],
   "source": [
    "import json\n",
    "import uuid\n",
    "import os\n",
    "import json\n",
    "from dotenv import load_dotenv\n",
    "from pathlib import Path\n",
    "from kafka import KafkaProducer\n",
    "from faker import Faker\n",
    "from time import sleep"
   ]
  },
  {
   "cell_type": "code",
   "execution_count": 2,
   "id": "4f39d08d-1baf-4db6-8393-74177ae50ff8",
   "metadata": {
    "tags": []
   },
   "outputs": [
    {
     "data": {
      "text/plain": [
       "True"
      ]
     },
     "execution_count": 2,
     "metadata": {},
     "output_type": "execute_result"
    }
   ],
   "source": [
    "dotenv_path = Path('/resources/.env')\n",
    "load_dotenv(dotenv_path=dotenv_path)"
   ]
  },
  {
   "cell_type": "code",
   "execution_count": 3,
   "id": "ff7f9eb4-c4b7-4d32-bf46-a53edf8867cd",
   "metadata": {
    "tags": []
   },
   "outputs": [],
   "source": [
    "kafka_host = os.getenv('KAFKA_HOST')\n",
    "kafka_topic = \"assignment-reza\""
   ]
  },
  {
   "cell_type": "code",
   "execution_count": 4,
   "id": "ace6e5cd-9afa-4108-a155-c42efa634d65",
   "metadata": {
    "tags": []
   },
   "outputs": [
    {
     "name": "stdout",
     "output_type": "stream",
     "text": [
      "dataeng-kafka\n"
     ]
    }
   ],
   "source": [
    "print(kafka_host)"
   ]
  },
  {
   "cell_type": "code",
   "execution_count": 5,
   "id": "ca7be8e2-c3d8-4e56-b7fc-6f0af9775ee8",
   "metadata": {
    "tags": []
   },
   "outputs": [],
   "source": [
    "producer = KafkaProducer(bootstrap_servers=f'{kafka_host}:9092')"
   ]
  },
  {
   "cell_type": "code",
   "execution_count": 6,
   "id": "99fc628c-cae7-4ab7-a14b-0024e07d1840",
   "metadata": {
    "tags": []
   },
   "outputs": [],
   "source": [
    "_instance = Faker()\n",
    "global faker\n",
    "faker = Faker()"
   ]
  },
  {
   "cell_type": "code",
   "execution_count": null,
   "id": "142f4b9c-f297-453b-9631-cc35a536fd7e",
   "metadata": {
    "tags": []
   },
   "outputs": [
    {
     "name": "stdout",
     "output_type": "stream",
     "text": [
      "a6bdc86f-5f3f-4bdf-aa77-617b578624bc RecordMetadata(topic='assignment-reza', partition=2, topic_partition=TopicPartition(topic='assignment-reza', partition=2), offset=10, timestamp=1731074634292, log_start_offset=0, checksum=None, serialized_key_size=-1, serialized_value_size=192, serialized_header_size=-1)\n",
      "4d5e4772-13d6-4982-a635-e666f7c0a377 RecordMetadata(topic='assignment-reza', partition=0, topic_partition=TopicPartition(topic='assignment-reza', partition=0), offset=17, timestamp=1731074639300, log_start_offset=0, checksum=None, serialized_key_size=-1, serialized_value_size=191, serialized_header_size=-1)\n",
      "6896c7a3-9c63-448a-b8d4-6bd65c055a5c RecordMetadata(topic='assignment-reza', partition=0, topic_partition=TopicPartition(topic='assignment-reza', partition=0), offset=18, timestamp=1731074644307, log_start_offset=0, checksum=None, serialized_key_size=-1, serialized_value_size=187, serialized_header_size=-1)\n",
      "163cf4f6-6da6-48ae-8fd8-651c1791d004 RecordMetadata(topic='assignment-reza', partition=1, topic_partition=TopicPartition(topic='assignment-reza', partition=1), offset=15, timestamp=1731074649311, log_start_offset=0, checksum=None, serialized_key_size=-1, serialized_value_size=190, serialized_header_size=-1)\n",
      "f9dae1f6-ad86-42c8-960f-54506b8470fe RecordMetadata(topic='assignment-reza', partition=1, topic_partition=TopicPartition(topic='assignment-reza', partition=1), offset=16, timestamp=1731074654315, log_start_offset=0, checksum=None, serialized_key_size=-1, serialized_value_size=197, serialized_header_size=-1)\n",
      "ad33dbf4-2c84-4215-9a04-4b6437f9e170 RecordMetadata(topic='assignment-reza', partition=1, topic_partition=TopicPartition(topic='assignment-reza', partition=1), offset=17, timestamp=1731074659326, log_start_offset=0, checksum=None, serialized_key_size=-1, serialized_value_size=189, serialized_header_size=-1)\n",
      "81cdb034-9717-42de-9c93-0a36afa4d71c RecordMetadata(topic='assignment-reza', partition=2, topic_partition=TopicPartition(topic='assignment-reza', partition=2), offset=11, timestamp=1731074664331, log_start_offset=0, checksum=None, serialized_key_size=-1, serialized_value_size=190, serialized_header_size=-1)\n",
      "494c41fa-0cb6-40f5-b484-ccbcd17757b6 RecordMetadata(topic='assignment-reza', partition=0, topic_partition=TopicPartition(topic='assignment-reza', partition=0), offset=19, timestamp=1731074669338, log_start_offset=0, checksum=None, serialized_key_size=-1, serialized_value_size=189, serialized_header_size=-1)\n",
      "6916df0e-0182-41b3-8e62-72d961e11f19 RecordMetadata(topic='assignment-reza', partition=2, topic_partition=TopicPartition(topic='assignment-reza', partition=2), offset=12, timestamp=1731074674345, log_start_offset=0, checksum=None, serialized_key_size=-1, serialized_value_size=192, serialized_header_size=-1)\n",
      "4c25f4dc-9b29-4a2c-a408-91f175f24178 RecordMetadata(topic='assignment-reza', partition=1, topic_partition=TopicPartition(topic='assignment-reza', partition=1), offset=18, timestamp=1731074679352, log_start_offset=0, checksum=None, serialized_key_size=-1, serialized_value_size=192, serialized_header_size=-1)\n",
      "5fd1b83f-83e2-4446-864f-ac6ab96a9cf5 RecordMetadata(topic='assignment-reza', partition=1, topic_partition=TopicPartition(topic='assignment-reza', partition=1), offset=19, timestamp=1731074684359, log_start_offset=0, checksum=None, serialized_key_size=-1, serialized_value_size=187, serialized_header_size=-1)\n",
      "35c4e552-3925-4537-93aa-96481dd8c2a3 RecordMetadata(topic='assignment-reza', partition=1, topic_partition=TopicPartition(topic='assignment-reza', partition=1), offset=20, timestamp=1731074689366, log_start_offset=0, checksum=None, serialized_key_size=-1, serialized_value_size=196, serialized_header_size=-1)\n",
      "1b4633cf-f4ac-42b0-ac8e-8273af896eeb RecordMetadata(topic='assignment-reza', partition=2, topic_partition=TopicPartition(topic='assignment-reza', partition=2), offset=13, timestamp=1731074694372, log_start_offset=0, checksum=None, serialized_key_size=-1, serialized_value_size=186, serialized_header_size=-1)\n",
      "9d83eaac-862d-4f8c-96f6-613f70401bff RecordMetadata(topic='assignment-reza', partition=1, topic_partition=TopicPartition(topic='assignment-reza', partition=1), offset=21, timestamp=1731074699379, log_start_offset=0, checksum=None, serialized_key_size=-1, serialized_value_size=198, serialized_header_size=-1)\n",
      "b96181da-8f46-492c-bbdc-e5cde1bce103 RecordMetadata(topic='assignment-reza', partition=0, topic_partition=TopicPartition(topic='assignment-reza', partition=0), offset=20, timestamp=1731074704386, log_start_offset=0, checksum=None, serialized_key_size=-1, serialized_value_size=190, serialized_header_size=-1)\n",
      "cfb63376-5d84-410f-a5f4-c542414bd7f3 RecordMetadata(topic='assignment-reza', partition=2, topic_partition=TopicPartition(topic='assignment-reza', partition=2), offset=14, timestamp=1731074709393, log_start_offset=0, checksum=None, serialized_key_size=-1, serialized_value_size=192, serialized_header_size=-1)\n",
      "11749051-2d28-40b1-8e21-e7c3e59244f9 RecordMetadata(topic='assignment-reza', partition=1, topic_partition=TopicPartition(topic='assignment-reza', partition=1), offset=22, timestamp=1731074714400, log_start_offset=0, checksum=None, serialized_key_size=-1, serialized_value_size=191, serialized_header_size=-1)\n",
      "43d488ac-d126-4ea1-be69-4eb1742bf28e RecordMetadata(topic='assignment-reza', partition=0, topic_partition=TopicPartition(topic='assignment-reza', partition=0), offset=21, timestamp=1731074719407, log_start_offset=0, checksum=None, serialized_key_size=-1, serialized_value_size=190, serialized_header_size=-1)\n",
      "8e222c49-2bb9-465d-bc09-29bb78f37f02 RecordMetadata(topic='assignment-reza', partition=2, topic_partition=TopicPartition(topic='assignment-reza', partition=2), offset=15, timestamp=1731074724414, log_start_offset=0, checksum=None, serialized_key_size=-1, serialized_value_size=195, serialized_header_size=-1)\n",
      "b588bc0e-cb06-4008-b87f-e673e877e745 RecordMetadata(topic='assignment-reza', partition=2, topic_partition=TopicPartition(topic='assignment-reza', partition=2), offset=16, timestamp=1731074729421, log_start_offset=0, checksum=None, serialized_key_size=-1, serialized_value_size=190, serialized_header_size=-1)\n",
      "7f22a348-60bf-43bb-b829-604f12534988 RecordMetadata(topic='assignment-reza', partition=1, topic_partition=TopicPartition(topic='assignment-reza', partition=1), offset=23, timestamp=1731074734428, log_start_offset=0, checksum=None, serialized_key_size=-1, serialized_value_size=193, serialized_header_size=-1)\n",
      "71bcc673-2edf-4c4e-ab9c-6f452092904f RecordMetadata(topic='assignment-reza', partition=0, topic_partition=TopicPartition(topic='assignment-reza', partition=0), offset=22, timestamp=1731074739435, log_start_offset=0, checksum=None, serialized_key_size=-1, serialized_value_size=192, serialized_header_size=-1)\n",
      "5260efe6-eb4e-4186-82b1-47f86253ff62 RecordMetadata(topic='assignment-reza', partition=2, topic_partition=TopicPartition(topic='assignment-reza', partition=2), offset=17, timestamp=1731074744442, log_start_offset=0, checksum=None, serialized_key_size=-1, serialized_value_size=193, serialized_header_size=-1)\n",
      "297e7933-8fb7-4cd5-b710-9493578bff3f RecordMetadata(topic='assignment-reza', partition=1, topic_partition=TopicPartition(topic='assignment-reza', partition=1), offset=24, timestamp=1731074749449, log_start_offset=0, checksum=None, serialized_key_size=-1, serialized_value_size=195, serialized_header_size=-1)\n",
      "e02ca8de-f1c9-4147-9ec8-460b5c074b1d RecordMetadata(topic='assignment-reza', partition=2, topic_partition=TopicPartition(topic='assignment-reza', partition=2), offset=18, timestamp=1731074754455, log_start_offset=0, checksum=None, serialized_key_size=-1, serialized_value_size=188, serialized_header_size=-1)\n",
      "103bcdc6-3ed5-4a52-9cdd-c8080afae287 RecordMetadata(topic='assignment-reza', partition=2, topic_partition=TopicPartition(topic='assignment-reza', partition=2), offset=19, timestamp=1731074759462, log_start_offset=0, checksum=None, serialized_key_size=-1, serialized_value_size=192, serialized_header_size=-1)\n",
      "c066020f-3cde-4a90-86e7-f172bdfa6a3f RecordMetadata(topic='assignment-reza', partition=0, topic_partition=TopicPartition(topic='assignment-reza', partition=0), offset=23, timestamp=1731074764469, log_start_offset=0, checksum=None, serialized_key_size=-1, serialized_value_size=193, serialized_header_size=-1)\n",
      "b69dccbe-684f-4a74-9992-bb2ff6761082 RecordMetadata(topic='assignment-reza', partition=0, topic_partition=TopicPartition(topic='assignment-reza', partition=0), offset=24, timestamp=1731074769476, log_start_offset=0, checksum=None, serialized_key_size=-1, serialized_value_size=189, serialized_header_size=-1)\n",
      "ce8221f2-3fd3-438f-a931-d35aba5fc7ac RecordMetadata(topic='assignment-reza', partition=0, topic_partition=TopicPartition(topic='assignment-reza', partition=0), offset=25, timestamp=1731074774483, log_start_offset=0, checksum=None, serialized_key_size=-1, serialized_value_size=193, serialized_header_size=-1)\n",
      "9009e5f8-03eb-415a-800c-2b81a1af74cc RecordMetadata(topic='assignment-reza', partition=0, topic_partition=TopicPartition(topic='assignment-reza', partition=0), offset=26, timestamp=1731074779490, log_start_offset=0, checksum=None, serialized_key_size=-1, serialized_value_size=193, serialized_header_size=-1)\n",
      "fd73837f-875c-47e7-8428-1d4509dbcbf2 RecordMetadata(topic='assignment-reza', partition=0, topic_partition=TopicPartition(topic='assignment-reza', partition=0), offset=27, timestamp=1731074784496, log_start_offset=0, checksum=None, serialized_key_size=-1, serialized_value_size=198, serialized_header_size=-1)\n",
      "8e4e4a45-5ff2-422c-a574-03c40ae28f4d RecordMetadata(topic='assignment-reza', partition=2, topic_partition=TopicPartition(topic='assignment-reza', partition=2), offset=20, timestamp=1731074789503, log_start_offset=0, checksum=None, serialized_key_size=-1, serialized_value_size=195, serialized_header_size=-1)\n",
      "aeebf63a-9bd0-456b-9e14-5bcd556d7383 RecordMetadata(topic='assignment-reza', partition=1, topic_partition=TopicPartition(topic='assignment-reza', partition=1), offset=25, timestamp=1731074794510, log_start_offset=0, checksum=None, serialized_key_size=-1, serialized_value_size=193, serialized_header_size=-1)\n",
      "7e4e0b79-b80c-4308-80c5-50b21facc07a RecordMetadata(topic='assignment-reza', partition=0, topic_partition=TopicPartition(topic='assignment-reza', partition=0), offset=28, timestamp=1731074799517, log_start_offset=0, checksum=None, serialized_key_size=-1, serialized_value_size=190, serialized_header_size=-1)\n",
      "fbd795ea-7159-4020-944e-9cd7eb9e808a RecordMetadata(topic='assignment-reza', partition=1, topic_partition=TopicPartition(topic='assignment-reza', partition=1), offset=26, timestamp=1731074804525, log_start_offset=0, checksum=None, serialized_key_size=-1, serialized_value_size=190, serialized_header_size=-1)\n",
      "bb2d8fac-3fb2-4171-a0c8-7dc05227a8e8 RecordMetadata(topic='assignment-reza', partition=1, topic_partition=TopicPartition(topic='assignment-reza', partition=1), offset=27, timestamp=1731074809532, log_start_offset=0, checksum=None, serialized_key_size=-1, serialized_value_size=195, serialized_header_size=-1)\n",
      "f49bc627-e42b-451f-be96-cceae7c4e53f RecordMetadata(topic='assignment-reza', partition=1, topic_partition=TopicPartition(topic='assignment-reza', partition=1), offset=28, timestamp=1731074814538, log_start_offset=0, checksum=None, serialized_key_size=-1, serialized_value_size=196, serialized_header_size=-1)\n",
      "85b2c489-784b-4067-8996-daad1eec2e27 RecordMetadata(topic='assignment-reza', partition=2, topic_partition=TopicPartition(topic='assignment-reza', partition=2), offset=21, timestamp=1731074819545, log_start_offset=0, checksum=None, serialized_key_size=-1, serialized_value_size=193, serialized_header_size=-1)\n",
      "feec9064-1ef4-4f12-ba50-554b103f17a5 RecordMetadata(topic='assignment-reza', partition=1, topic_partition=TopicPartition(topic='assignment-reza', partition=1), offset=29, timestamp=1731074824553, log_start_offset=0, checksum=None, serialized_key_size=-1, serialized_value_size=191, serialized_header_size=-1)\n",
      "726782b4-4e61-4e2b-b5ce-445ff67a47ae RecordMetadata(topic='assignment-reza', partition=0, topic_partition=TopicPartition(topic='assignment-reza', partition=0), offset=29, timestamp=1731074829561, log_start_offset=0, checksum=None, serialized_key_size=-1, serialized_value_size=194, serialized_header_size=-1)\n",
      "bc47b18b-628a-40ed-b428-d227d1eca959 RecordMetadata(topic='assignment-reza', partition=0, topic_partition=TopicPartition(topic='assignment-reza', partition=0), offset=30, timestamp=1731074834568, log_start_offset=0, checksum=None, serialized_key_size=-1, serialized_value_size=191, serialized_header_size=-1)\n",
      "3a05fb9c-c3c9-4073-8ac1-48a0ebbcf77b RecordMetadata(topic='assignment-reza', partition=2, topic_partition=TopicPartition(topic='assignment-reza', partition=2), offset=22, timestamp=1731074839576, log_start_offset=0, checksum=None, serialized_key_size=-1, serialized_value_size=193, serialized_header_size=-1)\n",
      "52c77a51-28bf-4f2e-8c15-5046a2cc4f41 RecordMetadata(topic='assignment-reza', partition=2, topic_partition=TopicPartition(topic='assignment-reza', partition=2), offset=23, timestamp=1731074844584, log_start_offset=0, checksum=None, serialized_key_size=-1, serialized_value_size=192, serialized_header_size=-1)\n",
      "db0a8c56-ee80-45b2-bba3-8c6bee77c3cd RecordMetadata(topic='assignment-reza', partition=1, topic_partition=TopicPartition(topic='assignment-reza', partition=1), offset=30, timestamp=1731074849587, log_start_offset=0, checksum=None, serialized_key_size=-1, serialized_value_size=186, serialized_header_size=-1)\n",
      "4927d4fe-fde4-48e6-b508-b70c3ae523e5 RecordMetadata(topic='assignment-reza', partition=0, topic_partition=TopicPartition(topic='assignment-reza', partition=0), offset=31, timestamp=1731074854595, log_start_offset=0, checksum=None, serialized_key_size=-1, serialized_value_size=191, serialized_header_size=-1)\n",
      "4010726d-2086-416a-966f-4f40cd917c2e RecordMetadata(topic='assignment-reza', partition=0, topic_partition=TopicPartition(topic='assignment-reza', partition=0), offset=32, timestamp=1731074859603, log_start_offset=0, checksum=None, serialized_key_size=-1, serialized_value_size=192, serialized_header_size=-1)\n",
      "6f56c33e-0531-4ab2-8cdd-96e52bbe15d0 RecordMetadata(topic='assignment-reza', partition=2, topic_partition=TopicPartition(topic='assignment-reza', partition=2), offset=24, timestamp=1731074864610, log_start_offset=0, checksum=None, serialized_key_size=-1, serialized_value_size=189, serialized_header_size=-1)\n",
      "e3abdcee-e314-4247-a0bf-d22017ac5c24 RecordMetadata(topic='assignment-reza', partition=1, topic_partition=TopicPartition(topic='assignment-reza', partition=1), offset=31, timestamp=1731074869617, log_start_offset=0, checksum=None, serialized_key_size=-1, serialized_value_size=196, serialized_header_size=-1)\n",
      "9f0cf920-6cf0-4f8e-acf7-56fa9dd21ce0 RecordMetadata(topic='assignment-reza', partition=2, topic_partition=TopicPartition(topic='assignment-reza', partition=2), offset=25, timestamp=1731074874622, log_start_offset=0, checksum=None, serialized_key_size=-1, serialized_value_size=191, serialized_header_size=-1)\n",
      "b47c8f96-4ac1-4938-9e6e-9911bbd40a12 RecordMetadata(topic='assignment-reza', partition=2, topic_partition=TopicPartition(topic='assignment-reza', partition=2), offset=26, timestamp=1731074879629, log_start_offset=0, checksum=None, serialized_key_size=-1, serialized_value_size=187, serialized_header_size=-1)\n",
      "326d81f6-e81c-462d-b872-0eb5af6c7116 RecordMetadata(topic='assignment-reza', partition=0, topic_partition=TopicPartition(topic='assignment-reza', partition=0), offset=33, timestamp=1731074884636, log_start_offset=0, checksum=None, serialized_key_size=-1, serialized_value_size=193, serialized_header_size=-1)\n",
      "75d188e5-991c-456f-b6e9-8de6bc6ddd76 RecordMetadata(topic='assignment-reza', partition=2, topic_partition=TopicPartition(topic='assignment-reza', partition=2), offset=27, timestamp=1731074889643, log_start_offset=0, checksum=None, serialized_key_size=-1, serialized_value_size=190, serialized_header_size=-1)\n",
      "8378b543-f325-4207-a6fb-bab2aff14c41 RecordMetadata(topic='assignment-reza', partition=0, topic_partition=TopicPartition(topic='assignment-reza', partition=0), offset=34, timestamp=1731074894650, log_start_offset=0, checksum=None, serialized_key_size=-1, serialized_value_size=192, serialized_header_size=-1)\n",
      "8254e71a-a09b-439c-a81f-06cabc30a05b RecordMetadata(topic='assignment-reza', partition=0, topic_partition=TopicPartition(topic='assignment-reza', partition=0), offset=35, timestamp=1731074899657, log_start_offset=0, checksum=None, serialized_key_size=-1, serialized_value_size=191, serialized_header_size=-1)\n",
      "010e394d-58fc-4ce7-a292-525a5f54164f RecordMetadata(topic='assignment-reza', partition=0, topic_partition=TopicPartition(topic='assignment-reza', partition=0), offset=36, timestamp=1731074904663, log_start_offset=0, checksum=None, serialized_key_size=-1, serialized_value_size=189, serialized_header_size=-1)\n",
      "56095fba-6730-42a9-9937-c179a14895f2 RecordMetadata(topic='assignment-reza', partition=0, topic_partition=TopicPartition(topic='assignment-reza', partition=0), offset=37, timestamp=1731074909671, log_start_offset=0, checksum=None, serialized_key_size=-1, serialized_value_size=193, serialized_header_size=-1)\n",
      "d2633874-1749-415b-b050-f53a12e86c06 RecordMetadata(topic='assignment-reza', partition=2, topic_partition=TopicPartition(topic='assignment-reza', partition=2), offset=28, timestamp=1731074914678, log_start_offset=0, checksum=None, serialized_key_size=-1, serialized_value_size=187, serialized_header_size=-1)\n",
      "e94ed13d-ecc4-44f9-9c36-4d0e3242f411 RecordMetadata(topic='assignment-reza', partition=2, topic_partition=TopicPartition(topic='assignment-reza', partition=2), offset=29, timestamp=1731074919685, log_start_offset=0, checksum=None, serialized_key_size=-1, serialized_value_size=188, serialized_header_size=-1)\n",
      "7c914b18-ff98-4aa9-ae1a-ba7921edf645 RecordMetadata(topic='assignment-reza', partition=2, topic_partition=TopicPartition(topic='assignment-reza', partition=2), offset=30, timestamp=1731074924692, log_start_offset=0, checksum=None, serialized_key_size=-1, serialized_value_size=190, serialized_header_size=-1)\n",
      "9be8e9ed-5de4-4408-a949-b4aa9471abd8 RecordMetadata(topic='assignment-reza', partition=0, topic_partition=TopicPartition(topic='assignment-reza', partition=0), offset=38, timestamp=1731074929699, log_start_offset=0, checksum=None, serialized_key_size=-1, serialized_value_size=190, serialized_header_size=-1)\n",
      "8e7e6aac-cf4d-434c-81b8-b1bcace409f5 RecordMetadata(topic='assignment-reza', partition=2, topic_partition=TopicPartition(topic='assignment-reza', partition=2), offset=31, timestamp=1731074934705, log_start_offset=0, checksum=None, serialized_key_size=-1, serialized_value_size=191, serialized_header_size=-1)\n",
      "080dab2e-4f54-4c66-a790-6d796db1949b RecordMetadata(topic='assignment-reza', partition=0, topic_partition=TopicPartition(topic='assignment-reza', partition=0), offset=39, timestamp=1731074939712, log_start_offset=0, checksum=None, serialized_key_size=-1, serialized_value_size=194, serialized_header_size=-1)\n",
      "4c817843-2a07-47ac-bc00-8f11991b1b43 RecordMetadata(topic='assignment-reza', partition=2, topic_partition=TopicPartition(topic='assignment-reza', partition=2), offset=32, timestamp=1731074944719, log_start_offset=0, checksum=None, serialized_key_size=-1, serialized_value_size=186, serialized_header_size=-1)\n",
      "cd08b522-7c34-43f9-8a07-fd8eb333d9aa RecordMetadata(topic='assignment-reza', partition=2, topic_partition=TopicPartition(topic='assignment-reza', partition=2), offset=33, timestamp=1731074949726, log_start_offset=0, checksum=None, serialized_key_size=-1, serialized_value_size=189, serialized_header_size=-1)\n",
      "a42594f5-aa3a-403f-a021-eb68b3eab53d RecordMetadata(topic='assignment-reza', partition=2, topic_partition=TopicPartition(topic='assignment-reza', partition=2), offset=34, timestamp=1731074954733, log_start_offset=0, checksum=None, serialized_key_size=-1, serialized_value_size=186, serialized_header_size=-1)\n",
      "aad3578a-b368-4b62-b19a-a3c46aa9fdca RecordMetadata(topic='assignment-reza', partition=0, topic_partition=TopicPartition(topic='assignment-reza', partition=0), offset=40, timestamp=1731074959740, log_start_offset=0, checksum=None, serialized_key_size=-1, serialized_value_size=193, serialized_header_size=-1)\n",
      "c55a5200-2c06-4ec2-bfcb-0d43b8203ea1 RecordMetadata(topic='assignment-reza', partition=2, topic_partition=TopicPartition(topic='assignment-reza', partition=2), offset=35, timestamp=1731074964746, log_start_offset=0, checksum=None, serialized_key_size=-1, serialized_value_size=191, serialized_header_size=-1)\n",
      "fd5469f9-a4b6-4a24-b0db-874cce3764cf RecordMetadata(topic='assignment-reza', partition=1, topic_partition=TopicPartition(topic='assignment-reza', partition=1), offset=32, timestamp=1731074969753, log_start_offset=0, checksum=None, serialized_key_size=-1, serialized_value_size=193, serialized_header_size=-1)\n",
      "1603a55f-4bbc-4b97-8e43-edbf82e01030 RecordMetadata(topic='assignment-reza', partition=1, topic_partition=TopicPartition(topic='assignment-reza', partition=1), offset=33, timestamp=1731074974762, log_start_offset=0, checksum=None, serialized_key_size=-1, serialized_value_size=191, serialized_header_size=-1)\n",
      "249197f9-fd19-48a1-abb9-c8a2df6c1227 RecordMetadata(topic='assignment-reza', partition=0, topic_partition=TopicPartition(topic='assignment-reza', partition=0), offset=41, timestamp=1731074979769, log_start_offset=0, checksum=None, serialized_key_size=-1, serialized_value_size=193, serialized_header_size=-1)\n",
      "bac447e4-394f-4436-aa5b-851377519a7f RecordMetadata(topic='assignment-reza', partition=2, topic_partition=TopicPartition(topic='assignment-reza', partition=2), offset=36, timestamp=1731074984776, log_start_offset=0, checksum=None, serialized_key_size=-1, serialized_value_size=188, serialized_header_size=-1)\n",
      "1eb7ef87-b9e6-411d-91b9-86d64d9a6e9e RecordMetadata(topic='assignment-reza', partition=1, topic_partition=TopicPartition(topic='assignment-reza', partition=1), offset=34, timestamp=1731074989783, log_start_offset=0, checksum=None, serialized_key_size=-1, serialized_value_size=195, serialized_header_size=-1)\n",
      "19d415d3-ed9f-44fe-abea-66d2ebffa642 RecordMetadata(topic='assignment-reza', partition=1, topic_partition=TopicPartition(topic='assignment-reza', partition=1), offset=35, timestamp=1731074994789, log_start_offset=0, checksum=None, serialized_key_size=-1, serialized_value_size=193, serialized_header_size=-1)\n",
      "ea042607-ec4d-4431-aa8a-f291954fda28 RecordMetadata(topic='assignment-reza', partition=0, topic_partition=TopicPartition(topic='assignment-reza', partition=0), offset=42, timestamp=1731074999796, log_start_offset=0, checksum=None, serialized_key_size=-1, serialized_value_size=191, serialized_header_size=-1)\n",
      "8a4ffaa2-a7a4-411b-adb5-0de3ca8d023c RecordMetadata(topic='assignment-reza', partition=0, topic_partition=TopicPartition(topic='assignment-reza', partition=0), offset=43, timestamp=1731075004803, log_start_offset=0, checksum=None, serialized_key_size=-1, serialized_value_size=193, serialized_header_size=-1)\n",
      "f557d4ab-1a90-40be-969e-1ef27763feeb RecordMetadata(topic='assignment-reza', partition=1, topic_partition=TopicPartition(topic='assignment-reza', partition=1), offset=36, timestamp=1731075009810, log_start_offset=0, checksum=None, serialized_key_size=-1, serialized_value_size=193, serialized_header_size=-1)\n",
      "b5899a04-6e48-421b-8a09-284f9d1f1545 RecordMetadata(topic='assignment-reza', partition=2, topic_partition=TopicPartition(topic='assignment-reza', partition=2), offset=37, timestamp=1731075014817, log_start_offset=0, checksum=None, serialized_key_size=-1, serialized_value_size=195, serialized_header_size=-1)\n",
      "328b3dbe-87a0-40df-98d3-15e4647dfe94 RecordMetadata(topic='assignment-reza', partition=2, topic_partition=TopicPartition(topic='assignment-reza', partition=2), offset=38, timestamp=1731075019824, log_start_offset=0, checksum=None, serialized_key_size=-1, serialized_value_size=191, serialized_header_size=-1)\n",
      "65045e60-db70-4a09-a9d6-47b6a9ffcdf3 RecordMetadata(topic='assignment-reza', partition=2, topic_partition=TopicPartition(topic='assignment-reza', partition=2), offset=39, timestamp=1731075024831, log_start_offset=0, checksum=None, serialized_key_size=-1, serialized_value_size=192, serialized_header_size=-1)\n",
      "aa179465-a008-4a40-86fd-385cb15ccddb RecordMetadata(topic='assignment-reza', partition=1, topic_partition=TopicPartition(topic='assignment-reza', partition=1), offset=37, timestamp=1731075029837, log_start_offset=0, checksum=None, serialized_key_size=-1, serialized_value_size=192, serialized_header_size=-1)\n",
      "4b5f1a00-2ab3-45d2-b65f-12767c6c36f9 RecordMetadata(topic='assignment-reza', partition=2, topic_partition=TopicPartition(topic='assignment-reza', partition=2), offset=40, timestamp=1731075034844, log_start_offset=0, checksum=None, serialized_key_size=-1, serialized_value_size=191, serialized_header_size=-1)\n",
      "40afe7fa-bfe9-4194-bfc3-13e6ef566c01 RecordMetadata(topic='assignment-reza', partition=0, topic_partition=TopicPartition(topic='assignment-reza', partition=0), offset=44, timestamp=1731075039851, log_start_offset=0, checksum=None, serialized_key_size=-1, serialized_value_size=192, serialized_header_size=-1)\n",
      "064a7e76-fc84-447a-8491-04fde84823ee RecordMetadata(topic='assignment-reza', partition=1, topic_partition=TopicPartition(topic='assignment-reza', partition=1), offset=38, timestamp=1731075044859, log_start_offset=0, checksum=None, serialized_key_size=-1, serialized_value_size=195, serialized_header_size=-1)\n",
      "89bef45c-04df-4df2-8b99-909443cb48a4 RecordMetadata(topic='assignment-reza', partition=0, topic_partition=TopicPartition(topic='assignment-reza', partition=0), offset=45, timestamp=1731075049861, log_start_offset=0, checksum=None, serialized_key_size=-1, serialized_value_size=188, serialized_header_size=-1)\n",
      "6e52cd89-b827-43e5-ba9c-e5cc81a5854d RecordMetadata(topic='assignment-reza', partition=2, topic_partition=TopicPartition(topic='assignment-reza', partition=2), offset=41, timestamp=1731075054867, log_start_offset=0, checksum=None, serialized_key_size=-1, serialized_value_size=188, serialized_header_size=-1)\n",
      "2b46da2b-0e44-4b7b-820f-d377edcd2329 RecordMetadata(topic='assignment-reza', partition=0, topic_partition=TopicPartition(topic='assignment-reza', partition=0), offset=46, timestamp=1731075059874, log_start_offset=0, checksum=None, serialized_key_size=-1, serialized_value_size=190, serialized_header_size=-1)\n",
      "674aa22e-4f74-4141-8ec3-f2cf1e98408a RecordMetadata(topic='assignment-reza', partition=1, topic_partition=TopicPartition(topic='assignment-reza', partition=1), offset=39, timestamp=1731075064879, log_start_offset=0, checksum=None, serialized_key_size=-1, serialized_value_size=190, serialized_header_size=-1)\n",
      "5b471727-bcd8-4d5a-b044-b611302c8bd5 RecordMetadata(topic='assignment-reza', partition=2, topic_partition=TopicPartition(topic='assignment-reza', partition=2), offset=42, timestamp=1731075069885, log_start_offset=0, checksum=None, serialized_key_size=-1, serialized_value_size=192, serialized_header_size=-1)\n",
      "f253ae89-be03-4264-8e28-9442e144ff10 RecordMetadata(topic='assignment-reza', partition=0, topic_partition=TopicPartition(topic='assignment-reza', partition=0), offset=47, timestamp=1731075074892, log_start_offset=0, checksum=None, serialized_key_size=-1, serialized_value_size=195, serialized_header_size=-1)\n",
      "8c67e7cc-37da-4b7d-ba5b-e9194dc97911 RecordMetadata(topic='assignment-reza', partition=1, topic_partition=TopicPartition(topic='assignment-reza', partition=1), offset=40, timestamp=1731075079901, log_start_offset=0, checksum=None, serialized_key_size=-1, serialized_value_size=189, serialized_header_size=-1)\n",
      "c1a83b2c-5ba4-4ae9-a462-c04165bd925f RecordMetadata(topic='assignment-reza', partition=1, topic_partition=TopicPartition(topic='assignment-reza', partition=1), offset=41, timestamp=1731075084911, log_start_offset=0, checksum=None, serialized_key_size=-1, serialized_value_size=191, serialized_header_size=-1)\n",
      "64ddc02d-630c-4e65-a038-4addcad9b1c2 RecordMetadata(topic='assignment-reza', partition=2, topic_partition=TopicPartition(topic='assignment-reza', partition=2), offset=43, timestamp=1731075089918, log_start_offset=0, checksum=None, serialized_key_size=-1, serialized_value_size=191, serialized_header_size=-1)\n",
      "a6ec8dae-7712-42d7-93c6-512b9cf80123 RecordMetadata(topic='assignment-reza', partition=1, topic_partition=TopicPartition(topic='assignment-reza', partition=1), offset=42, timestamp=1731075094925, log_start_offset=0, checksum=None, serialized_key_size=-1, serialized_value_size=189, serialized_header_size=-1)\n",
      "06356771-2b40-44fb-8a25-cdbcc8096308 RecordMetadata(topic='assignment-reza', partition=0, topic_partition=TopicPartition(topic='assignment-reza', partition=0), offset=48, timestamp=1731075099932, log_start_offset=0, checksum=None, serialized_key_size=-1, serialized_value_size=190, serialized_header_size=-1)\n",
      "95c5a7b2-92b9-4ada-a22a-1169c0462453 RecordMetadata(topic='assignment-reza', partition=1, topic_partition=TopicPartition(topic='assignment-reza', partition=1), offset=43, timestamp=1731075104939, log_start_offset=0, checksum=None, serialized_key_size=-1, serialized_value_size=193, serialized_header_size=-1)\n",
      "9da4218f-a461-4975-ac2b-0ca636c57d31 RecordMetadata(topic='assignment-reza', partition=1, topic_partition=TopicPartition(topic='assignment-reza', partition=1), offset=44, timestamp=1731075109946, log_start_offset=0, checksum=None, serialized_key_size=-1, serialized_value_size=192, serialized_header_size=-1)\n",
      "021a7200-5bf9-4267-a1a9-350a5f9aff84 RecordMetadata(topic='assignment-reza', partition=1, topic_partition=TopicPartition(topic='assignment-reza', partition=1), offset=45, timestamp=1731075114953, log_start_offset=0, checksum=None, serialized_key_size=-1, serialized_value_size=186, serialized_header_size=-1)\n",
      "fa02a188-a1a2-4f38-b7fe-d187a7b0f598 RecordMetadata(topic='assignment-reza', partition=1, topic_partition=TopicPartition(topic='assignment-reza', partition=1), offset=46, timestamp=1731075119960, log_start_offset=0, checksum=None, serialized_key_size=-1, serialized_value_size=189, serialized_header_size=-1)\n",
      "8b863031-1dbd-40d3-bf39-68107d2884c9 RecordMetadata(topic='assignment-reza', partition=0, topic_partition=TopicPartition(topic='assignment-reza', partition=0), offset=49, timestamp=1731075124967, log_start_offset=0, checksum=None, serialized_key_size=-1, serialized_value_size=192, serialized_header_size=-1)\n",
      "7bf24aad-38b6-4d87-b9d2-9518f4aa97a0 RecordMetadata(topic='assignment-reza', partition=2, topic_partition=TopicPartition(topic='assignment-reza', partition=2), offset=44, timestamp=1731075129974, log_start_offset=0, checksum=None, serialized_key_size=-1, serialized_value_size=190, serialized_header_size=-1)\n",
      "7e8b1214-ff1e-4f70-8bf1-093e28e7bbf3 RecordMetadata(topic='assignment-reza', partition=1, topic_partition=TopicPartition(topic='assignment-reza', partition=1), offset=47, timestamp=1731075134981, log_start_offset=0, checksum=None, serialized_key_size=-1, serialized_value_size=191, serialized_header_size=-1)\n",
      "353b506a-921b-41f2-828d-99a8d2aafad2 RecordMetadata(topic='assignment-reza', partition=0, topic_partition=TopicPartition(topic='assignment-reza', partition=0), offset=50, timestamp=1731075139988, log_start_offset=0, checksum=None, serialized_key_size=-1, serialized_value_size=193, serialized_header_size=-1)\n",
      "38dbf958-45ec-4bfa-a993-4f604833e1e7 RecordMetadata(topic='assignment-reza', partition=1, topic_partition=TopicPartition(topic='assignment-reza', partition=1), offset=48, timestamp=1731075144994, log_start_offset=0, checksum=None, serialized_key_size=-1, serialized_value_size=192, serialized_header_size=-1)\n",
      "d5ae9e4e-2386-4f0f-9fd8-bf84ae34ea3b RecordMetadata(topic='assignment-reza', partition=1, topic_partition=TopicPartition(topic='assignment-reza', partition=1), offset=49, timestamp=1731075150004, log_start_offset=0, checksum=None, serialized_key_size=-1, serialized_value_size=191, serialized_header_size=-1)\n",
      "9998149e-f4c4-4b20-b9e8-e2e218e50cdb RecordMetadata(topic='assignment-reza', partition=1, topic_partition=TopicPartition(topic='assignment-reza', partition=1), offset=50, timestamp=1731075155011, log_start_offset=0, checksum=None, serialized_key_size=-1, serialized_value_size=194, serialized_header_size=-1)\n",
      "bfecca52-79de-4ecb-9a77-af4d62e4c90b RecordMetadata(topic='assignment-reza', partition=1, topic_partition=TopicPartition(topic='assignment-reza', partition=1), offset=51, timestamp=1731075160018, log_start_offset=0, checksum=None, serialized_key_size=-1, serialized_value_size=188, serialized_header_size=-1)\n",
      "ff2c4181-69b3-4f1c-9199-ce62d94572b1 RecordMetadata(topic='assignment-reza', partition=0, topic_partition=TopicPartition(topic='assignment-reza', partition=0), offset=51, timestamp=1731075165025, log_start_offset=0, checksum=None, serialized_key_size=-1, serialized_value_size=190, serialized_header_size=-1)\n",
      "a2d1bb16-0249-4ca9-b438-89135fd1c1ff RecordMetadata(topic='assignment-reza', partition=0, topic_partition=TopicPartition(topic='assignment-reza', partition=0), offset=52, timestamp=1731075170031, log_start_offset=0, checksum=None, serialized_key_size=-1, serialized_value_size=190, serialized_header_size=-1)\n",
      "e439a21a-a5f5-47a7-a6a6-6e9f1107bee9 RecordMetadata(topic='assignment-reza', partition=2, topic_partition=TopicPartition(topic='assignment-reza', partition=2), offset=45, timestamp=1731075175037, log_start_offset=0, checksum=None, serialized_key_size=-1, serialized_value_size=186, serialized_header_size=-1)\n",
      "613bbfcd-42e5-47c9-ba0a-28979f88b7f3 RecordMetadata(topic='assignment-reza', partition=1, topic_partition=TopicPartition(topic='assignment-reza', partition=1), offset=52, timestamp=1731075180044, log_start_offset=0, checksum=None, serialized_key_size=-1, serialized_value_size=187, serialized_header_size=-1)\n",
      "f539d8de-17ce-4e30-a881-952364d04204 RecordMetadata(topic='assignment-reza', partition=1, topic_partition=TopicPartition(topic='assignment-reza', partition=1), offset=53, timestamp=1731075185051, log_start_offset=0, checksum=None, serialized_key_size=-1, serialized_value_size=189, serialized_header_size=-1)\n",
      "ef93f038-977c-4fdc-ae26-2ff6cd6be8e8 RecordMetadata(topic='assignment-reza', partition=0, topic_partition=TopicPartition(topic='assignment-reza', partition=0), offset=53, timestamp=1731075190058, log_start_offset=0, checksum=None, serialized_key_size=-1, serialized_value_size=189, serialized_header_size=-1)\n",
      "e60c5ac8-e44c-4cb7-b6ea-326326a44134 RecordMetadata(topic='assignment-reza', partition=0, topic_partition=TopicPartition(topic='assignment-reza', partition=0), offset=54, timestamp=1731075195065, log_start_offset=0, checksum=None, serialized_key_size=-1, serialized_value_size=191, serialized_header_size=-1)\n",
      "a141d8bb-d405-4931-a727-6dda5a70bcc6 RecordMetadata(topic='assignment-reza', partition=2, topic_partition=TopicPartition(topic='assignment-reza', partition=2), offset=46, timestamp=1731075200072, log_start_offset=0, checksum=None, serialized_key_size=-1, serialized_value_size=192, serialized_header_size=-1)\n",
      "bef48de1-a961-4512-a056-3d6ad10faeb0 RecordMetadata(topic='assignment-reza', partition=1, topic_partition=TopicPartition(topic='assignment-reza', partition=1), offset=54, timestamp=1731075205078, log_start_offset=0, checksum=None, serialized_key_size=-1, serialized_value_size=195, serialized_header_size=-1)\n",
      "017f16b1-31b2-490a-a774-1037436c4559 RecordMetadata(topic='assignment-reza', partition=0, topic_partition=TopicPartition(topic='assignment-reza', partition=0), offset=55, timestamp=1731075210085, log_start_offset=0, checksum=None, serialized_key_size=-1, serialized_value_size=187, serialized_header_size=-1)\n",
      "ec5dfdd9-be41-48aa-a24b-e8eef98c009b RecordMetadata(topic='assignment-reza', partition=1, topic_partition=TopicPartition(topic='assignment-reza', partition=1), offset=55, timestamp=1731075215092, log_start_offset=0, checksum=None, serialized_key_size=-1, serialized_value_size=192, serialized_header_size=-1)\n",
      "ceab8d37-a971-4c95-b81c-71abd73ad109 RecordMetadata(topic='assignment-reza', partition=2, topic_partition=TopicPartition(topic='assignment-reza', partition=2), offset=47, timestamp=1731075220099, log_start_offset=0, checksum=None, serialized_key_size=-1, serialized_value_size=189, serialized_header_size=-1)\n",
      "e3199cfd-f5a9-432b-bead-d459d372cebb RecordMetadata(topic='assignment-reza', partition=2, topic_partition=TopicPartition(topic='assignment-reza', partition=2), offset=48, timestamp=1731075225104, log_start_offset=0, checksum=None, serialized_key_size=-1, serialized_value_size=191, serialized_header_size=-1)\n",
      "4a600f81-c025-4318-926e-4b4755a8987d RecordMetadata(topic='assignment-reza', partition=2, topic_partition=TopicPartition(topic='assignment-reza', partition=2), offset=49, timestamp=1731075230111, log_start_offset=0, checksum=None, serialized_key_size=-1, serialized_value_size=191, serialized_header_size=-1)\n",
      "75ac043e-36e9-4487-ba1d-37a29097f624 RecordMetadata(topic='assignment-reza', partition=1, topic_partition=TopicPartition(topic='assignment-reza', partition=1), offset=56, timestamp=1731075235113, log_start_offset=0, checksum=None, serialized_key_size=-1, serialized_value_size=192, serialized_header_size=-1)\n",
      "6e168033-94fa-4449-879d-20c7c0811e1a RecordMetadata(topic='assignment-reza', partition=0, topic_partition=TopicPartition(topic='assignment-reza', partition=0), offset=56, timestamp=1731075240120, log_start_offset=0, checksum=None, serialized_key_size=-1, serialized_value_size=190, serialized_header_size=-1)\n",
      "51ef4143-1b80-413d-95e4-27d051b3da2e RecordMetadata(topic='assignment-reza', partition=0, topic_partition=TopicPartition(topic='assignment-reza', partition=0), offset=57, timestamp=1731075245128, log_start_offset=0, checksum=None, serialized_key_size=-1, serialized_value_size=192, serialized_header_size=-1)\n",
      "fbd4532f-0870-417e-9fdd-45ec736b83eb RecordMetadata(topic='assignment-reza', partition=1, topic_partition=TopicPartition(topic='assignment-reza', partition=1), offset=57, timestamp=1731075250135, log_start_offset=0, checksum=None, serialized_key_size=-1, serialized_value_size=191, serialized_header_size=-1)\n",
      "25b5cb41-f45c-48be-b8d7-64fd2ee6158c RecordMetadata(topic='assignment-reza', partition=1, topic_partition=TopicPartition(topic='assignment-reza', partition=1), offset=58, timestamp=1731075255142, log_start_offset=0, checksum=None, serialized_key_size=-1, serialized_value_size=191, serialized_header_size=-1)\n",
      "a74e9470-228b-4504-b39e-638b41ce1a61 RecordMetadata(topic='assignment-reza', partition=1, topic_partition=TopicPartition(topic='assignment-reza', partition=1), offset=59, timestamp=1731075260149, log_start_offset=0, checksum=None, serialized_key_size=-1, serialized_value_size=190, serialized_header_size=-1)\n",
      "cb2a93fa-47fd-44f8-8be2-1d850c4fea54 RecordMetadata(topic='assignment-reza', partition=1, topic_partition=TopicPartition(topic='assignment-reza', partition=1), offset=60, timestamp=1731075265156, log_start_offset=0, checksum=None, serialized_key_size=-1, serialized_value_size=193, serialized_header_size=-1)\n",
      "2daaa191-45d9-43b5-a30c-9025ca926ca5 RecordMetadata(topic='assignment-reza', partition=0, topic_partition=TopicPartition(topic='assignment-reza', partition=0), offset=58, timestamp=1731075270163, log_start_offset=0, checksum=None, serialized_key_size=-1, serialized_value_size=192, serialized_header_size=-1)\n",
      "52e726c5-1248-4e63-9842-3e53c8a32bd4 RecordMetadata(topic='assignment-reza', partition=1, topic_partition=TopicPartition(topic='assignment-reza', partition=1), offset=61, timestamp=1731075275170, log_start_offset=0, checksum=None, serialized_key_size=-1, serialized_value_size=194, serialized_header_size=-1)\n",
      "0c9589e3-6494-4fee-8359-5d174071cbe5 RecordMetadata(topic='assignment-reza', partition=1, topic_partition=TopicPartition(topic='assignment-reza', partition=1), offset=62, timestamp=1731075280176, log_start_offset=0, checksum=None, serialized_key_size=-1, serialized_value_size=192, serialized_header_size=-1)\n",
      "33affb70-6402-49eb-85fa-f15da6d9beae RecordMetadata(topic='assignment-reza', partition=0, topic_partition=TopicPartition(topic='assignment-reza', partition=0), offset=59, timestamp=1731075285182, log_start_offset=0, checksum=None, serialized_key_size=-1, serialized_value_size=190, serialized_header_size=-1)\n",
      "7cbd0746-0e49-4626-a3a2-c084efc687ea RecordMetadata(topic='assignment-reza', partition=2, topic_partition=TopicPartition(topic='assignment-reza', partition=2), offset=50, timestamp=1731075290189, log_start_offset=0, checksum=None, serialized_key_size=-1, serialized_value_size=195, serialized_header_size=-1)\n",
      "e607675e-95e2-49bf-ba20-cc845f7121db RecordMetadata(topic='assignment-reza', partition=0, topic_partition=TopicPartition(topic='assignment-reza', partition=0), offset=60, timestamp=1731075295197, log_start_offset=0, checksum=None, serialized_key_size=-1, serialized_value_size=191, serialized_header_size=-1)\n",
      "b0439302-a855-4d05-bfd8-ab0396aa2600 RecordMetadata(topic='assignment-reza', partition=2, topic_partition=TopicPartition(topic='assignment-reza', partition=2), offset=51, timestamp=1731075300204, log_start_offset=0, checksum=None, serialized_key_size=-1, serialized_value_size=188, serialized_header_size=-1)\n",
      "cd4c35bd-b2b7-4a79-b1bb-55671cbfe347 RecordMetadata(topic='assignment-reza', partition=0, topic_partition=TopicPartition(topic='assignment-reza', partition=0), offset=61, timestamp=1731075305211, log_start_offset=0, checksum=None, serialized_key_size=-1, serialized_value_size=189, serialized_header_size=-1)\n",
      "43aa72cf-6c11-48ca-8c89-22c77405bbe2 RecordMetadata(topic='assignment-reza', partition=1, topic_partition=TopicPartition(topic='assignment-reza', partition=1), offset=63, timestamp=1731075310218, log_start_offset=0, checksum=None, serialized_key_size=-1, serialized_value_size=189, serialized_header_size=-1)\n",
      "32fc97c4-a06a-47e7-a315-6a5be551d004 RecordMetadata(topic='assignment-reza', partition=1, topic_partition=TopicPartition(topic='assignment-reza', partition=1), offset=64, timestamp=1731075315222, log_start_offset=0, checksum=None, serialized_key_size=-1, serialized_value_size=190, serialized_header_size=-1)\n",
      "be3a3081-fb1b-406c-8fc2-396b0359a12a RecordMetadata(topic='assignment-reza', partition=1, topic_partition=TopicPartition(topic='assignment-reza', partition=1), offset=65, timestamp=1731075320230, log_start_offset=0, checksum=None, serialized_key_size=-1, serialized_value_size=192, serialized_header_size=-1)\n",
      "4d4b6876-4071-40aa-80b2-fb3def49aedf RecordMetadata(topic='assignment-reza', partition=0, topic_partition=TopicPartition(topic='assignment-reza', partition=0), offset=62, timestamp=1731075325236, log_start_offset=0, checksum=None, serialized_key_size=-1, serialized_value_size=201, serialized_header_size=-1)\n",
      "a4ad28bf-9d1d-4022-b327-40be90900daa RecordMetadata(topic='assignment-reza', partition=0, topic_partition=TopicPartition(topic='assignment-reza', partition=0), offset=63, timestamp=1731075330243, log_start_offset=0, checksum=None, serialized_key_size=-1, serialized_value_size=192, serialized_header_size=-1)\n",
      "4c5181e6-6f04-4d88-af6a-be950be41319 RecordMetadata(topic='assignment-reza', partition=2, topic_partition=TopicPartition(topic='assignment-reza', partition=2), offset=52, timestamp=1731075335250, log_start_offset=0, checksum=None, serialized_key_size=-1, serialized_value_size=195, serialized_header_size=-1)\n",
      "0f022c03-9e3e-49cd-9e9f-eb54633011d4 RecordMetadata(topic='assignment-reza', partition=1, topic_partition=TopicPartition(topic='assignment-reza', partition=1), offset=66, timestamp=1731075340257, log_start_offset=0, checksum=None, serialized_key_size=-1, serialized_value_size=192, serialized_header_size=-1)\n",
      "d7e03118-b757-4856-b1b1-4e267346ea9c RecordMetadata(topic='assignment-reza', partition=1, topic_partition=TopicPartition(topic='assignment-reza', partition=1), offset=67, timestamp=1731075345264, log_start_offset=0, checksum=None, serialized_key_size=-1, serialized_value_size=191, serialized_header_size=-1)\n",
      "5aa726b7-9947-4f44-bbc3-064d5be728d9 RecordMetadata(topic='assignment-reza', partition=2, topic_partition=TopicPartition(topic='assignment-reza', partition=2), offset=53, timestamp=1731075350271, log_start_offset=0, checksum=None, serialized_key_size=-1, serialized_value_size=190, serialized_header_size=-1)\n",
      "421ace50-723e-4aa9-826b-0a983dcd3a3c RecordMetadata(topic='assignment-reza', partition=2, topic_partition=TopicPartition(topic='assignment-reza', partition=2), offset=54, timestamp=1731075355277, log_start_offset=0, checksum=None, serialized_key_size=-1, serialized_value_size=188, serialized_header_size=-1)\n",
      "162186a1-dfa9-40a3-91d6-91f531f99e27 RecordMetadata(topic='assignment-reza', partition=2, topic_partition=TopicPartition(topic='assignment-reza', partition=2), offset=55, timestamp=1731075360284, log_start_offset=0, checksum=None, serialized_key_size=-1, serialized_value_size=194, serialized_header_size=-1)\n",
      "a4409a72-2fcf-4562-90d9-a94b0091048f RecordMetadata(topic='assignment-reza', partition=0, topic_partition=TopicPartition(topic='assignment-reza', partition=0), offset=64, timestamp=1731075365291, log_start_offset=0, checksum=None, serialized_key_size=-1, serialized_value_size=195, serialized_header_size=-1)\n",
      "291fcdc7-6188-470e-9366-ed51d598a8e3 RecordMetadata(topic='assignment-reza', partition=0, topic_partition=TopicPartition(topic='assignment-reza', partition=0), offset=65, timestamp=1731075370298, log_start_offset=0, checksum=None, serialized_key_size=-1, serialized_value_size=195, serialized_header_size=-1)\n",
      "515d0335-95a5-49f7-b6c7-53a6ce5da029 RecordMetadata(topic='assignment-reza', partition=0, topic_partition=TopicPartition(topic='assignment-reza', partition=0), offset=66, timestamp=1731075375305, log_start_offset=0, checksum=None, serialized_key_size=-1, serialized_value_size=191, serialized_header_size=-1)\n",
      "b65198aa-6e31-4169-8893-48fe9b7b8065 RecordMetadata(topic='assignment-reza', partition=0, topic_partition=TopicPartition(topic='assignment-reza', partition=0), offset=67, timestamp=1731075380313, log_start_offset=0, checksum=None, serialized_key_size=-1, serialized_value_size=194, serialized_header_size=-1)\n",
      "5f46d431-b20d-44c4-b147-9133db8bfca0 RecordMetadata(topic='assignment-reza', partition=1, topic_partition=TopicPartition(topic='assignment-reza', partition=1), offset=68, timestamp=1731075385319, log_start_offset=0, checksum=None, serialized_key_size=-1, serialized_value_size=191, serialized_header_size=-1)\n",
      "e4a10dcb-a77d-4431-b849-fc7fe5988a6a RecordMetadata(topic='assignment-reza', partition=2, topic_partition=TopicPartition(topic='assignment-reza', partition=2), offset=56, timestamp=1731075390326, log_start_offset=0, checksum=None, serialized_key_size=-1, serialized_value_size=189, serialized_header_size=-1)\n",
      "f0c113a2-2039-4a61-95b3-3d8e83df468b RecordMetadata(topic='assignment-reza', partition=1, topic_partition=TopicPartition(topic='assignment-reza', partition=1), offset=69, timestamp=1731075395333, log_start_offset=0, checksum=None, serialized_key_size=-1, serialized_value_size=190, serialized_header_size=-1)\n",
      "1eebc396-a058-4f2e-a2de-7f4c45b472d8 RecordMetadata(topic='assignment-reza', partition=2, topic_partition=TopicPartition(topic='assignment-reza', partition=2), offset=57, timestamp=1731075400339, log_start_offset=0, checksum=None, serialized_key_size=-1, serialized_value_size=189, serialized_header_size=-1)\n",
      "08a95011-16ca-4453-bd7d-0f4c1a7a10dd RecordMetadata(topic='assignment-reza', partition=2, topic_partition=TopicPartition(topic='assignment-reza', partition=2), offset=58, timestamp=1731075405346, log_start_offset=0, checksum=None, serialized_key_size=-1, serialized_value_size=193, serialized_header_size=-1)\n",
      "65282b70-4679-4074-ba0d-ffbfcd7cca2c RecordMetadata(topic='assignment-reza', partition=0, topic_partition=TopicPartition(topic='assignment-reza', partition=0), offset=68, timestamp=1731075410353, log_start_offset=0, checksum=None, serialized_key_size=-1, serialized_value_size=193, serialized_header_size=-1)\n",
      "71793ce2-efda-4b68-b7b0-39fbfa1fa304 RecordMetadata(topic='assignment-reza', partition=1, topic_partition=TopicPartition(topic='assignment-reza', partition=1), offset=70, timestamp=1731075415359, log_start_offset=0, checksum=None, serialized_key_size=-1, serialized_value_size=194, serialized_header_size=-1)\n",
      "dad5baa9-5906-4d69-b732-6a7a2ba87efa RecordMetadata(topic='assignment-reza', partition=2, topic_partition=TopicPartition(topic='assignment-reza', partition=2), offset=59, timestamp=1731075420366, log_start_offset=0, checksum=None, serialized_key_size=-1, serialized_value_size=190, serialized_header_size=-1)\n",
      "05efffc2-f606-4920-b75a-3c18b6cc1653 RecordMetadata(topic='assignment-reza', partition=1, topic_partition=TopicPartition(topic='assignment-reza', partition=1), offset=71, timestamp=1731075425373, log_start_offset=0, checksum=None, serialized_key_size=-1, serialized_value_size=188, serialized_header_size=-1)\n",
      "1c8e4a00-744d-49ac-b29d-5bb817746eac RecordMetadata(topic='assignment-reza', partition=1, topic_partition=TopicPartition(topic='assignment-reza', partition=1), offset=72, timestamp=1731075430380, log_start_offset=0, checksum=None, serialized_key_size=-1, serialized_value_size=190, serialized_header_size=-1)\n",
      "7585c455-aa72-4962-8b3b-98b78f3cf128 RecordMetadata(topic='assignment-reza', partition=0, topic_partition=TopicPartition(topic='assignment-reza', partition=0), offset=69, timestamp=1731075435387, log_start_offset=0, checksum=None, serialized_key_size=-1, serialized_value_size=189, serialized_header_size=-1)\n",
      "419edb3b-64c5-4b90-93fc-99569417a6ef RecordMetadata(topic='assignment-reza', partition=2, topic_partition=TopicPartition(topic='assignment-reza', partition=2), offset=60, timestamp=1731075440394, log_start_offset=0, checksum=None, serialized_key_size=-1, serialized_value_size=190, serialized_header_size=-1)\n",
      "bd49988d-7078-4a8e-abd7-d891b2f3b415 RecordMetadata(topic='assignment-reza', partition=2, topic_partition=TopicPartition(topic='assignment-reza', partition=2), offset=61, timestamp=1731075445400, log_start_offset=0, checksum=None, serialized_key_size=-1, serialized_value_size=188, serialized_header_size=-1)\n",
      "a231f96b-4019-4373-bc2f-a5961f9391b8 RecordMetadata(topic='assignment-reza', partition=0, topic_partition=TopicPartition(topic='assignment-reza', partition=0), offset=70, timestamp=1731075450407, log_start_offset=0, checksum=None, serialized_key_size=-1, serialized_value_size=192, serialized_header_size=-1)\n",
      "7f767a40-31c0-4d64-a203-467004c716c1 RecordMetadata(topic='assignment-reza', partition=2, topic_partition=TopicPartition(topic='assignment-reza', partition=2), offset=62, timestamp=1731075455413, log_start_offset=0, checksum=None, serialized_key_size=-1, serialized_value_size=193, serialized_header_size=-1)\n",
      "8f9a6ef5-95f8-4ea3-b4e8-7dec8fc08933 RecordMetadata(topic='assignment-reza', partition=2, topic_partition=TopicPartition(topic='assignment-reza', partition=2), offset=63, timestamp=1731075460416, log_start_offset=0, checksum=None, serialized_key_size=-1, serialized_value_size=192, serialized_header_size=-1)\n",
      "dad9633b-7e26-4030-9f90-0521e6844acb RecordMetadata(topic='assignment-reza', partition=2, topic_partition=TopicPartition(topic='assignment-reza', partition=2), offset=64, timestamp=1731075465423, log_start_offset=0, checksum=None, serialized_key_size=-1, serialized_value_size=191, serialized_header_size=-1)\n",
      "a8b189fb-a724-4119-a326-0b7bb14148ec RecordMetadata(topic='assignment-reza', partition=2, topic_partition=TopicPartition(topic='assignment-reza', partition=2), offset=65, timestamp=1731075470426, log_start_offset=0, checksum=None, serialized_key_size=-1, serialized_value_size=194, serialized_header_size=-1)\n",
      "c5f06596-864e-4ace-904b-6232f205d114 RecordMetadata(topic='assignment-reza', partition=1, topic_partition=TopicPartition(topic='assignment-reza', partition=1), offset=73, timestamp=1731075475432, log_start_offset=0, checksum=None, serialized_key_size=-1, serialized_value_size=189, serialized_header_size=-1)\n",
      "e6aabac4-71d4-47bf-a550-2f8bc9ec584c RecordMetadata(topic='assignment-reza', partition=2, topic_partition=TopicPartition(topic='assignment-reza', partition=2), offset=66, timestamp=1731075480439, log_start_offset=0, checksum=None, serialized_key_size=-1, serialized_value_size=193, serialized_header_size=-1)\n",
      "bcc6f9ac-1106-44d5-951e-ceea68888e35 RecordMetadata(topic='assignment-reza', partition=2, topic_partition=TopicPartition(topic='assignment-reza', partition=2), offset=67, timestamp=1731075485446, log_start_offset=0, checksum=None, serialized_key_size=-1, serialized_value_size=194, serialized_header_size=-1)\n",
      "8d0306af-1008-4880-b740-d158b89a2dd5 RecordMetadata(topic='assignment-reza', partition=0, topic_partition=TopicPartition(topic='assignment-reza', partition=0), offset=71, timestamp=1731075490453, log_start_offset=0, checksum=None, serialized_key_size=-1, serialized_value_size=189, serialized_header_size=-1)\n",
      "8c46d15c-dffe-492f-aea8-7870b84dea0d RecordMetadata(topic='assignment-reza', partition=0, topic_partition=TopicPartition(topic='assignment-reza', partition=0), offset=72, timestamp=1731075495459, log_start_offset=0, checksum=None, serialized_key_size=-1, serialized_value_size=195, serialized_header_size=-1)\n",
      "cc59a911-f1a5-4011-9864-95919395908c RecordMetadata(topic='assignment-reza', partition=0, topic_partition=TopicPartition(topic='assignment-reza', partition=0), offset=73, timestamp=1731075500466, log_start_offset=0, checksum=None, serialized_key_size=-1, serialized_value_size=190, serialized_header_size=-1)\n",
      "0d8150eb-216f-4c32-80a8-5687f63ad310 RecordMetadata(topic='assignment-reza', partition=1, topic_partition=TopicPartition(topic='assignment-reza', partition=1), offset=74, timestamp=1731075505472, log_start_offset=0, checksum=None, serialized_key_size=-1, serialized_value_size=187, serialized_header_size=-1)\n",
      "eec8b10c-639c-4ab7-a2df-83ed1005548e RecordMetadata(topic='assignment-reza', partition=1, topic_partition=TopicPartition(topic='assignment-reza', partition=1), offset=75, timestamp=1731075510497, log_start_offset=0, checksum=None, serialized_key_size=-1, serialized_value_size=189, serialized_header_size=-1)\n",
      "c7380f6d-31e5-4ec4-8828-c4d553b562a9 RecordMetadata(topic='assignment-reza', partition=2, topic_partition=TopicPartition(topic='assignment-reza', partition=2), offset=68, timestamp=1731075515504, log_start_offset=0, checksum=None, serialized_key_size=-1, serialized_value_size=187, serialized_header_size=-1)\n",
      "f97a8fec-56c9-460f-a7e8-7aad707de17a RecordMetadata(topic='assignment-reza', partition=2, topic_partition=TopicPartition(topic='assignment-reza', partition=2), offset=69, timestamp=1731075520511, log_start_offset=0, checksum=None, serialized_key_size=-1, serialized_value_size=190, serialized_header_size=-1)\n",
      "7a953eab-0cf7-4b04-9828-a7743d10375e RecordMetadata(topic='assignment-reza', partition=2, topic_partition=TopicPartition(topic='assignment-reza', partition=2), offset=70, timestamp=1731075525518, log_start_offset=0, checksum=None, serialized_key_size=-1, serialized_value_size=193, serialized_header_size=-1)\n",
      "4706eea8-976d-448d-959b-354331201c45 RecordMetadata(topic='assignment-reza', partition=2, topic_partition=TopicPartition(topic='assignment-reza', partition=2), offset=71, timestamp=1731075530525, log_start_offset=0, checksum=None, serialized_key_size=-1, serialized_value_size=192, serialized_header_size=-1)\n",
      "ef2b93c1-fb58-457d-9c0f-942e3695ed10 RecordMetadata(topic='assignment-reza', partition=0, topic_partition=TopicPartition(topic='assignment-reza', partition=0), offset=74, timestamp=1731075535531, log_start_offset=0, checksum=None, serialized_key_size=-1, serialized_value_size=190, serialized_header_size=-1)\n",
      "b8c43d48-ef31-47ed-8159-b9e063670e23 RecordMetadata(topic='assignment-reza', partition=1, topic_partition=TopicPartition(topic='assignment-reza', partition=1), offset=76, timestamp=1731075540538, log_start_offset=0, checksum=None, serialized_key_size=-1, serialized_value_size=188, serialized_header_size=-1)\n",
      "e2d8cc34-1c37-42c5-9063-905d5e543e2e RecordMetadata(topic='assignment-reza', partition=0, topic_partition=TopicPartition(topic='assignment-reza', partition=0), offset=75, timestamp=1731075545545, log_start_offset=0, checksum=None, serialized_key_size=-1, serialized_value_size=196, serialized_header_size=-1)\n",
      "f6b3de02-ff87-4c50-9850-0e52934bfe32 RecordMetadata(topic='assignment-reza', partition=1, topic_partition=TopicPartition(topic='assignment-reza', partition=1), offset=77, timestamp=1731075550552, log_start_offset=0, checksum=None, serialized_key_size=-1, serialized_value_size=190, serialized_header_size=-1)\n",
      "37409d06-4c92-421a-9ad0-936b95e072e0 RecordMetadata(topic='assignment-reza', partition=0, topic_partition=TopicPartition(topic='assignment-reza', partition=0), offset=76, timestamp=1731075555559, log_start_offset=0, checksum=None, serialized_key_size=-1, serialized_value_size=191, serialized_header_size=-1)\n",
      "0c3ee866-7837-40ed-bc71-1f31c9ecd7d9 RecordMetadata(topic='assignment-reza', partition=2, topic_partition=TopicPartition(topic='assignment-reza', partition=2), offset=72, timestamp=1731075560566, log_start_offset=0, checksum=None, serialized_key_size=-1, serialized_value_size=189, serialized_header_size=-1)\n",
      "1b36a073-88eb-4d61-9ed8-3310d04e1bbe RecordMetadata(topic='assignment-reza', partition=2, topic_partition=TopicPartition(topic='assignment-reza', partition=2), offset=73, timestamp=1731075565572, log_start_offset=0, checksum=None, serialized_key_size=-1, serialized_value_size=191, serialized_header_size=-1)\n",
      "8f434c56-5dfd-4a97-bd68-ebc8df84cec2 RecordMetadata(topic='assignment-reza', partition=1, topic_partition=TopicPartition(topic='assignment-reza', partition=1), offset=78, timestamp=1731075570579, log_start_offset=0, checksum=None, serialized_key_size=-1, serialized_value_size=196, serialized_header_size=-1)\n"
     ]
    }
   ],
   "source": [
    "import uuid\n",
    "import json\n",
    "from faker import Faker\n",
    "from time import sleep\n",
    "from kafka import KafkaProducer\n",
    "\n",
    "class DataGenerator(object):\n",
    "    @staticmethod\n",
    "    def get_data():\n",
    "        return [\n",
    "            uuid.uuid4().__str__(),  # transaction_id\n",
    "            faker.name(),  # user_name\n",
    "            faker.random_element(elements=('BTC', 'ETH', 'DOGE', 'ADA', 'XRP', 'PEPE', 'MANTA', 'SUI', 'ENA', 'AEVO')),  # crypto_type\n",
    "            faker.pyfloat(left_digits=4, right_digits=2, positive=True, min_value=50, max_value=10000),  # transaction_amount\n",
    "            faker.pyfloat(left_digits=2, right_digits=2, positive=True, min_value=1, max_value=100),  # transaction_fee\n",
    "            faker.unix_time()  # timestamp\n",
    "        ]\n",
    "\n",
    "for i in range(1, 400):\n",
    "    columns = [\"transaction_id\", \"user_name\", \"crypto_type\", \"transaction_amount\", \"transaction_fee\", \"timestamp\"]\n",
    "    data_list = DataGenerator.get_data()\n",
    "    json_data = dict(zip(columns, data_list))\n",
    "    _payload = json.dumps(json_data).encode(\"utf-8\")\n",
    "    response = producer.send(topic=kafka_topic, value=_payload)\n",
    "    print(json_data['transaction_id'], response.get())  # Menampilkan transaction_id dan hasil kiriman\n",
    "    sleep(5)\n"
   ]
  }
 ],
 "metadata": {
  "kernelspec": {
   "display_name": "Python 3 (ipykernel)",
   "language": "python",
   "name": "python3"
  },
  "language_info": {
   "codemirror_mode": {
    "name": "ipython",
    "version": 3
   },
   "file_extension": ".py",
   "mimetype": "text/x-python",
   "name": "python",
   "nbconvert_exporter": "python",
   "pygments_lexer": "ipython3",
   "version": "3.10.10"
  }
 },
 "nbformat": 4,
 "nbformat_minor": 5
}
